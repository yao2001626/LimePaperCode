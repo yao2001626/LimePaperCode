{
 "cells": [
  {
   "cell_type": "markdown",
   "metadata": {},
   "source": [
    "# Build "
   ]
  },
  {
   "cell_type": "code",
   "execution_count": null,
   "metadata": {},
   "outputs": [],
   "source": [
    "%%sh\n",
    "make"
   ]
  },
  {
   "cell_type": "markdown",
   "metadata": {},
   "source": [
    "# Run Test Cases"
   ]
  },
  {
   "cell_type": "code",
   "execution_count": 1,
   "metadata": {},
   "outputs": [],
   "source": [
    "import os\n",
    "import time\n",
    "repeats = 60\n",
    "cores = 32 # change it to the number of the cores\n",
    "outputDir=\"measurements/\"\n",
    "def runTest(cmd, testName, languageName, testcases, repeat, heavyThreadtest):\n",
    "    if heavyThreadtest == testcases: \n",
    "        lightOrHeavy = \"heavythread\"\n",
    "    else:\n",
    "        lightOrHeavy = \"lightthread\"\n",
    "    for r in range(repeat):\n",
    "        outputFileName = outputDir+languageName+\".\"+testName+\".\"+lightOrHeavy+\".\"+str(r)+\".txt\"\n",
    "        for t in testcases:\n",
    "            runCmd0 = \"echo num: \"+str(t) +\" >>\" + outputFileName\n",
    "            os.system(runCmd0)\n",
    "            runCmd = cmd % t + \" 2>> \" + outputFileName\n",
    "            bashCmd = 'GREPDB=\\\"'+runCmd+'\\\"; /bin/bash -c \"$GREPDB\"'\n",
    "            os.system(bashCmd)\n",
    "            #print(runCmd)\n",
    "            #time.sleep(1)\n",
    "def cleanup():\n",
    "    files = outputDir + \"*.txt\"\n",
    "    cmd  = \"rm -f \" + files\n",
    "    os.system(cmd)\n",
    "    files = outputDir + \"*.dat\"\n",
    "    cmd  = \"rm -f \" + files\n",
    "    os.system(cmd)\n",
    "    \n",
    "cleanup()"
   ]
  },
  {
   "cell_type": "code",
   "execution_count": 2,
   "metadata": {},
   "outputs": [],
   "source": [
    "heavyThreadTestCases = [1000, 2000, 3000, 4000, 5000, 6000, 7000, 8000, 9000]\n",
    "lightThreadTestCases = [100000, 200000, 300000, 400000, 500000, 600000, 700000, 800000, 900000]\n",
    "\n",
    "####  Part I  #####\n",
    "\n",
    "#PQ_Lime\n",
    "cmd = \"time (./bin/pingpong_lime %d 1 1)\"\n",
    "runTest(cmd, \"pingpong\", \"Lime\",  heavyThreadTestCases, repeats, heavyThreadTestCases)\n",
    "\n",
    "#PQ_GO\n",
    "cmd = \"time (./bin/pingpong_go %d)\"\n",
    "runTest(cmd, \"pingpong\", \"Go\",  heavyThreadTestCases, repeats, heavyThreadTestCases)\n",
    "\n",
    "#PQ_Erlang\n",
    "cmd = \"time (erl -noshell -pa bin -s -run pingpong start -s init stop -rounds %d)\"\n",
    "runTest(cmd, \"pingpong\", \"Erlang\",  heavyThreadTestCases, repeats, heavyThreadTestCases)\n",
    "\n",
    "#PQ_Haskell\n",
    "cmd = \"time (./bin/pingpong_haskell %d)\"\n",
    "runTest(cmd, \"pingpong\", \"Haskell\",  heavyThreadTestCases, repeats, heavyThreadTestCases)\n",
    "\n",
    "#PQ_Java\n",
    "cmd = \"time (java -cp bin/ PingPong %d)\"\n",
    "runTest(cmd, \"pingpong\", \"Java\",  heavyThreadTestCases, repeats, heavyThreadTestCases)\n",
    "\n",
    "#PQ_Pthread\n",
    "cmd = \"time (./bin/pingpong_pthread %d)\"\n",
    "runTest(cmd, \"pingpong\", \"Pthread\",  heavyThreadTestCases, repeats, heavyThreadTestCases)\n",
    "\n",
    "#PQ_Rust\n",
    "cmd = \"time (./bin/pingpong_rust %d)\"\n",
    "runTest(cmd, \"pingpong\", \"Rust\",  heavyThreadTestCases, repeats, heavyThreadTestCases)\n",
    "\n",
    "####  Part II  #####\n",
    "\n",
    "#PQ_Lime\n",
    "cmd = \"time (./bin/pingpong_lime %d 1 1)\"\n",
    "runTest(cmd, \"pingpong\", \"Lime\",  lightThreadTestCases, repeats, heavyThreadTestCases)\n",
    "\n",
    "#PQ_GO\n",
    "cmd = \"time (./bin/pingpong_go %d)\"\n",
    "runTest(cmd, \"pingpong\", \"Go\",  lightThreadTestCases, repeats, heavyThreadTestCases)\n",
    "\n",
    "#PQ_Erlang\n",
    "cmd = \"time (erl -noshell -pa bin -s -run pingpong start -s init stop -rounds %d)\"\n",
    "runTest(cmd, \"pingpong\", \"Erlang\",  lightThreadTestCases, repeats, heavyThreadTestCases)\n",
    "\n",
    "#PQ_Haskell\n",
    "cmd = \"time (./bin/pingpong_haskell %d)\"\n",
    "runTest(cmd, \"pingpong\", \"Haskell\",  lightThreadTestCases, repeats, heavyThreadTestCases)\n",
    "\n",
    "#PQ_Rust\n",
    "#cmd = \"time (./bin/pingpong_rust %d)\"\n",
    "#runTest(cmd, \"pingpong\", \"Rust\",  lightThreadTestCases, repeats, heavyThreadTestCases)"
   ]
  },
  {
   "cell_type": "code",
   "execution_count": 3,
   "metadata": {},
   "outputs": [],
   "source": [
    "import sys\n",
    "import re\n",
    "import glob\n",
    "import resource\n",
    "\n",
    "allLanguages = [ \"Pthread\", \"Haskell\", \"Go\", \"Erlang\", \"Java\", \"Lime\", \"Rust\"]\n",
    "\n",
    "outputDir=\"measurements/\"\n",
    "datap = re.compile('num:\\\\s+([0-9]+).*') #group 1\n",
    "realp = re.compile('real\\\\s+([0-9]+)m([0-9]+\\\\.[0-9]+)s.*') #group 1 and group 2\n",
    "userp = re.compile('user\\\\s+([0-9]+)m([0-9]+\\\\.[0-9]+)s.*')\n",
    "sysp = re.compile('sys\\\\s+([0-9]+)m([0-9]+\\\\.[0-9]+)s.*')\n",
    "\n",
    "def parse():\n",
    "    for l in allLanguages:\n",
    "        results = glob.glob(\"measurements/*.txt\")\n",
    "        #print(results)\n",
    "        for f in results:\n",
    "            ifp=open(f)\n",
    "            ofp=open(f+'.dat', 'w+')\n",
    "            line=ifp.readlines()\n",
    "            row=[None, None]\n",
    "            for x in line:\n",
    "                if row[0] is None:\n",
    "                    m = datap.match(x)\n",
    "                    if m is not None:\n",
    "                        row[0] = m.group(1)\n",
    "                elif row[1] is None:\n",
    "                    t = realp.match(x)\n",
    "                    if t is not None:\n",
    "                        row[1] = str((int(t.group(1))*60+float(t.group(2)))*1000)\n",
    "                        #print(row[1])\n",
    "                        ofp.write(row[0])\n",
    "                        ofp.write(' ')\n",
    "                        ofp.write(row[1])\n",
    "                        ofp.write(' ')\n",
    "                        ofp.write('\\n')\n",
    "                        row = [None, None]\n",
    "            ofp.close()\n",
    "\n",
    "parse()"
   ]
  },
  {
   "cell_type": "code",
   "execution_count": 4,
   "metadata": {},
   "outputs": [
    {
     "name": "stdout",
     "output_type": "stream",
     "text": [
      "Overwriting gendata.sh\n"
     ]
    }
   ],
   "source": [
    "%%file gendata.sh\n",
    "./../gnuplotme --set x file $1.1.txt.dat 1 --set z avg 2 0 95 $1.*.txt.dat --plot x xaxis --plot z 95CI --outfile $1"
   ]
  },
  {
   "cell_type": "code",
   "execution_count": 5,
   "metadata": {},
   "outputs": [],
   "source": [
    "%%sh\n",
    "chmod +x ../gnuplotme"
   ]
  },
  {
   "cell_type": "code",
   "execution_count": 6,
   "metadata": {},
   "outputs": [],
   "source": [
    "import os\n",
    "testcases = [\"pingpong\"] \n",
    "lightLanguages = [ \"Haskell\", \"Go\", \"Erlang\", \"Lime\"]\n",
    "#lightLanguages = [\"Lime\"]\n",
    "outputDir=\"measurements/\"\n",
    "\n",
    "for l in allLanguages:\n",
    "    for t in testcases:\n",
    "        cmd  = \"bash gendata.sh \"+outputDir  +l+\".\"+t+\".heavythread\"\n",
    "        os.system(cmd)\n",
    "for l in lightLanguages:\n",
    "    for t in testcases:\n",
    "        cmd  = \"bash gendata.sh \"+outputDir +l+\".\"+t+\".lightthread\"\n",
    "        os.system(cmd)"
   ]
  },
  {
   "cell_type": "code",
   "execution_count": 170,
   "metadata": {},
   "outputs": [
    {
     "name": "stdout",
     "output_type": "stream",
     "text": [
      "Overwriting PingPong.gp\n"
     ]
    }
   ],
   "source": [
    "%%writefile PingPong.gp\n",
    "\n",
    "set terminal png\n",
    "set output \"ex_PingPong.png\"\n",
    "#set terminal postscript eps enhanced color font 'Helvetica,10'\n",
    "#set output \"PingPong.eps\"\n",
    "set multiplot layout 1,2 \n",
    "set tmargin at screen 0.1\n",
    "set bmargin at screen 0.80\n",
    "set lmargin at screen 0.13\n",
    "set rmargin at screen 0.60\n",
    "set xlabel \"Tokens (10^3)\" offset -1,0.5,0\n",
    "set ylabel \"Time (ms)\"\n",
    "set format x \"%2.0t\"\n",
    "set xrange [1000:9000]\n",
    "#set xtics rotate by -75 offset -1,0.5,0\n",
    "set key left top\n",
    "#set key height 1\n",
    "#set key width 0.2\n",
    "#set key font \"Helvetica, 5\"\n",
    "set key vertical maxrows 4\n",
    "#set key 0.15, 0.45, 0.1, 0.3 \n",
    "#set xtics rotate by 0 offset 0,0,0\n",
    "\n",
    "plot \"measurements/Lime.pingpong.heavythread.data\" using 1:2 title 'Lime' with linespoints linecolor rgb \"red\" pointtype 26 pointsize 2, \\\n",
    "    \"measurements/Go.pingpong.heavythread.data\" using 1:2 title 'Go' with linespoints linecolor rgb \"green\" pointtype 39 pointsize 2, \\\n",
    "    \"measurements/Erlang.pingpong.heavythread.data\" using 1:($2-1100) title 'Erlang' with linespoints linecolor rgb \"blue\" pointtype 10 pointsize 2, \\\n",
    "    \"measurements/Java.pingpong.heavythread.data\" using 1:2 title 'Java' with linespoints linecolor rgb \"coral\" pointtype 70 pointsize 2, \\\n",
    "    \"measurements/Pthread.pingpong.heavythread.data\" using 1:2 title 'Pthread' with linespoints linecolor rgb \"#5F9EA0\" pointtype 1 pointsize 2, \\\n",
    "    \"measurements/Haskell.pingpong.heavythread.data\" using 1:2 title 'Haskell' with linespoints linecolor rgb \"brown\" pointtype 58 pointsize 2, \\\n",
    "    \"measurements/Rust.pingpong.heavythread.data\" using 1:2 title 'Rust' with linespoints linecolor rgb 'gold' pointtype 50 pointsize 2        \n",
    "set lmargin at screen 0.70\n",
    "set rmargin at screen 0.99\n",
    "set xlabel \"Tokens (10^5)\" offset -1,0.5,0\n",
    "#set format x \"%t\"\n",
    "set format x \"%2.0t\"\n",
    "set xrange [100000:900000]\n",
    "unset key\n",
    "#set key left top\n",
    "unset ylabel\n",
    "plot \"measurements/Lime.pingpong.lightthread.data\" using 1:2 title 'Lime' with linespoints linecolor rgb \"red\" pointtype 26 pointsize 2, \\\n",
    "     \"measurements/Go.pingpong.lightthread.data\" using 1:2 title 'Go' with linespoints linecolor rgb \"green\" pointtype 39 pointsize 2, \\\n",
    "     \"measurements/Erlang.pingpong.lightthread.data\" using 1:($2-1100) title 'Erlang' with linespoints linecolor rgb \"blue\" pointtype 10 pointsize 2, \\\n",
    "     \"measurements/Haskell.pingpong.lightthread.data\" using 1:2 title 'Haskell' with linespoints linecolor rgb \"brown\" pointtype 58 pointsize 2\n",
    "     #\"../Results/tmp-dir/Rust.pingpong.lightthread.data\" using 1:2 title 'Rust' with linespoints linecolor rgb \"gold\" pointtype 50 pointsize 2 \n",
    "unset multiplot\n",
    "unset xtics"
   ]
  },
  {
   "cell_type": "code",
   "execution_count": 171,
   "metadata": {},
   "outputs": [],
   "source": [
    "%%sh\n",
    "cat PingPong.gp | gnuplot"
   ]
  },
  {
   "cell_type": "code",
   "execution_count": 172,
   "metadata": {},
   "outputs": [
    {
     "data": {
      "image/png": "[encoded data removed]",
      "text/plain": [
       "<IPython.core.display.Image object>"
      ]
     },
     "execution_count": 172,
     "metadata": {},
     "output_type": "execute_result"
    }
   ],
   "source": [
    "from IPython.display import Image\n",
    "Image(filename='ex_PingPong.png') "
   ]
  },
  {
   "cell_type": "code",
   "execution_count": null,
   "metadata": {},
   "outputs": [],
   "source": []
  },
  {
   "cell_type": "code",
   "execution_count": null,
   "metadata": {},
   "outputs": [],
   "source": []
  }
 ],
 "metadata": {
  "kernelspec": {
   "display_name": "Python 3",
   "language": "python",
   "name": "python3"
  },
  "language_info": {
   "codemirror_mode": {
    "name": "ipython",
    "version": 3
   },
   "file_extension": ".py",
   "mimetype": "text/x-python",
   "name": "python",
   "nbconvert_exporter": "python",
   "pygments_lexer": "ipython3",
   "version": "3.6.7"
  }
 },
 "nbformat": 4,
 "nbformat_minor": 2
}
